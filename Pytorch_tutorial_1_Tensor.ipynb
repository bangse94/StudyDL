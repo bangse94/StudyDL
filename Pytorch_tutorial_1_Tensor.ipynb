{
  "nbformat": 4,
  "nbformat_minor": 0,
  "metadata": {
    "colab": {
      "provenance": [],
      "collapsed_sections": [],
      "authorship_tag": "ABX9TyP5Xjf6XlUGwpFpfGmoot3z",
      "include_colab_link": true
    },
    "kernelspec": {
      "name": "python3",
      "display_name": "Python 3"
    },
    "language_info": {
      "name": "python"
    },
    "accelerator": "GPU",
    "gpuClass": "standard"
  },
  "cells": [
    {
      "cell_type": "markdown",
      "metadata": {
        "id": "view-in-github",
        "colab_type": "text"
      },
      "source": [
        "<a href=\"https://colab.research.google.com/github/bangse94/StudyDL/blob/main/Pytorch_tutorial_1_Tensor.ipynb\" target=\"_parent\"><img src=\"https://colab.research.google.com/assets/colab-badge.svg\" alt=\"Open In Colab\"/></a>"
      ]
    },
    {
      "cell_type": "markdown",
      "source": [
        "pytorch tutorial"
      ],
      "metadata": {
        "id": "6WzstZ2tgUJN"
      }
    },
    {
      "cell_type": "markdown",
      "source": [
        "1.  Tensor\n",
        "\n",
        "- 텐서는 배열이나 행렬과 매우 유사한 특수한 자류구조.\n",
        "- PyTorch에서는 텐서를 사용하여 모델의 입력과 출력, 그리고 모델의 매개변수들을 부호화(encode)\n",
        "- 텐서는 GPU나 다른 하드웨어 가속기에서 실행할 수 있다는 점만 제외하면 Numpy의 ndarray와 유사\n",
        "- 텐서와 NumPy 배열은 동일한 내부 메모리를 공유할 수 있어 데이터를 복수할 필요가 없다.\n",
        "- 텐서는 또한 자동미분에 최적화"
      ],
      "metadata": {
        "id": "ahr9edGsgX9-"
      }
    },
    {
      "cell_type": "code",
      "execution_count": 1,
      "metadata": {
        "id": "zl5L6MWQPiNK"
      },
      "outputs": [],
      "source": [
        "import torch\n",
        "import numpy as np"
      ]
    },
    {
      "cell_type": "markdown",
      "source": [
        "텐서 초기화\n",
        "1. 데이터로부터 직접 생성하기\n",
        "  - 데이터로부터 직접 텐서를 생성 할 수 있다. -> 데이터의 자료형은 자동으로 유추 "
      ],
      "metadata": {
        "id": "9prcDJ0jg_MD"
      }
    },
    {
      "cell_type": "code",
      "source": [
        "data = [[1,2], [3,4]]\n",
        "x_data = torch.tensor(data)\n",
        "print(type(x_data))"
      ],
      "metadata": {
        "colab": {
          "base_uri": "https://localhost:8080/"
        },
        "id": "F8Kq23yfhO4q",
        "outputId": "37a5681b-b657-4701-9679-22f549711fbc"
      },
      "execution_count": 2,
      "outputs": [
        {
          "output_type": "stream",
          "name": "stdout",
          "text": [
            "<class 'torch.Tensor'>\n"
          ]
        }
      ]
    },
    {
      "cell_type": "markdown",
      "source": [
        "  2. NumPy 배열로부터 생성하기\n",
        "    - 텐서는 NumPy 배열로 생성할 수 있다. -> 반대도 가능"
      ],
      "metadata": {
        "id": "FlV213U4haTR"
      }
    },
    {
      "cell_type": "code",
      "source": [
        "np_array = np.array(data)\n",
        "x_np = torch.from_numpy(np_array)\n",
        "print(type(x_np))"
      ],
      "metadata": {
        "colab": {
          "base_uri": "https://localhost:8080/"
        },
        "id": "spV2iHSYhd1Z",
        "outputId": "d43513bd-5348-4e49-d7c4-df7ffa425723"
      },
      "execution_count": 3,
      "outputs": [
        {
          "output_type": "stream",
          "name": "stdout",
          "text": [
            "<class 'torch.Tensor'>\n"
          ]
        }
      ]
    },
    {
      "cell_type": "markdown",
      "source": [
        "  3. 다른 텐서로부터 생성하기\n",
        "    - 명시적으로 재정의(override)하지 않는다면, 인자로 주어진 텐서의 속성(shape, datatype)을 유지"
      ],
      "metadata": {
        "id": "Xin-ZKAehmdu"
      }
    },
    {
      "cell_type": "code",
      "source": [
        "x_ones = torch.ones_like(x_data)    # x_data의 속성을 유지\n",
        "print(f\"Ones Tensor : \\n {x_ones} \\n\")\n",
        "\n",
        "x_rand = torch.rand_like(x_data, dtype=torch.float)     # x_data의 속성을 덮어쓴다\n",
        "print(f\"Random Tensor: \\n {x_rand} \\n\")"
      ],
      "metadata": {
        "colab": {
          "base_uri": "https://localhost:8080/"
        },
        "id": "8gdKBKfIh1ur",
        "outputId": "bf6f9047-50eb-4111-b820-631bd374f60a"
      },
      "execution_count": 4,
      "outputs": [
        {
          "output_type": "stream",
          "name": "stdout",
          "text": [
            "Ones Tensor : \n",
            " tensor([[1, 1],\n",
            "        [1, 1]]) \n",
            "\n",
            "Random Tensor: \n",
            " tensor([[0.1243, 0.4149],\n",
            "        [0.3934, 0.1507]]) \n",
            "\n"
          ]
        }
      ]
    },
    {
      "cell_type": "markdown",
      "source": [
        "  4. 무작위 또는 상수 값을 사용하기\n",
        "    - shape는 텐서의 차원(Dimension)을 나타내는 튜플(tuple)"
      ],
      "metadata": {
        "id": "No5T8_YZiNrq"
      }
    },
    {
      "cell_type": "code",
      "source": [
        "shape = (2,3,)\n",
        "rand_tensor = torch.rand(shape)\n",
        "ones_tensor = torch.ones(shape)\n",
        "zeros_tensor = torch.zeros(shape)\n",
        "\n",
        "print(f\"Random Tensor: \\n {rand_tensor} \\n\")\n",
        "print(f\"Ones Tensor: \\n {ones_tensor} \\n\")\n",
        "print(f\"Zeros Tensor: \\n {zeros_tensor} \\n\")"
      ],
      "metadata": {
        "colab": {
          "base_uri": "https://localhost:8080/"
        },
        "id": "z2QrH1eWiZO2",
        "outputId": "ac6e5a64-b4ec-4027-cbda-01c5ecd10f14"
      },
      "execution_count": 5,
      "outputs": [
        {
          "output_type": "stream",
          "name": "stdout",
          "text": [
            "Random Tensor: \n",
            " tensor([[0.2528, 0.9861, 0.6449],\n",
            "        [0.3069, 0.7372, 0.3017]]) \n",
            "\n",
            "Ones Tensor: \n",
            " tensor([[1., 1., 1.],\n",
            "        [1., 1., 1.]]) \n",
            "\n",
            "Zeros Tensor: \n",
            " tensor([[0., 0., 0.],\n",
            "        [0., 0., 0.]]) \n",
            "\n"
          ]
        }
      ]
    },
    {
      "cell_type": "markdown",
      "source": [
        "텐서의 속성\n",
        "  - 텐서의 속성은 텐서의 shape, datatype 및 어느 장치에 저장되는지를 나타낸다"
      ],
      "metadata": {
        "id": "UvELZ4PZi3O8"
      }
    },
    {
      "cell_type": "code",
      "source": [
        "tensor = torch.rand(3,4)\n",
        "\n",
        "print(f\"Shape of tensor : {tensor.shape}\")\n",
        "print(f\"Datatype of tensor : {tensor.dtype}\")\n",
        "print(f\"Device tensor is sotred on : {tensor.device}\")"
      ],
      "metadata": {
        "colab": {
          "base_uri": "https://localhost:8080/"
        },
        "id": "Mibew_Fei8PW",
        "outputId": "f4075eb9-6476-4a5e-bb8d-178ece4bd9d7"
      },
      "execution_count": 6,
      "outputs": [
        {
          "output_type": "stream",
          "name": "stdout",
          "text": [
            "Shape of tensor : torch.Size([3, 4])\n",
            "Datatype of tensor : torch.float32\n",
            "Device tensor is sotred on : cpu\n"
          ]
        }
      ]
    },
    {
      "cell_type": "markdown",
      "source": [
        "텐서 연산\n",
        "  - transposing, indexing, slicing, 수학 계산, 선형 대수, random sampling등 다양한 연산 제공\n",
        "  - 각 연산들은 GPU에서 실행 가능\n",
        "  - 기본적으로 텐서는 cpu에 생성 -> .to 메소드를 사용하면 GPU로 텐서를 명시적으로 이용가능"
      ],
      "metadata": {
        "id": "KmdXZzTLjNC6"
      }
    },
    {
      "cell_type": "code",
      "source": [
        "if torch.cuda.is_available():\n",
        "    tensor = tensor.to(\"cuda\")\n",
        "\n",
        "print(tensor.device)"
      ],
      "metadata": {
        "colab": {
          "base_uri": "https://localhost:8080/"
        },
        "id": "zNbqItddlqMU",
        "outputId": "f14f0df8-36f5-4007-fbb1-eac2382324cb"
      },
      "execution_count": 7,
      "outputs": [
        {
          "output_type": "stream",
          "name": "stdout",
          "text": [
            "cuda:0\n"
          ]
        }
      ]
    },
    {
      "cell_type": "markdown",
      "source": [
        "  1. NumPy식의 표준 인덱싱과 슬라이싱"
      ],
      "metadata": {
        "id": "wp9Ge-Dgl5Bi"
      }
    },
    {
      "cell_type": "code",
      "source": [
        "tensor = torch.ones(4,4)\n",
        "print(f\"First row: {tensor[0]}\")\n",
        "print(f\"First column: {tensor[:, 0]}\")\n",
        "print(f\"Last column: {tensor[..., -1]}\")\n",
        "tensor[:,1] = 0\n",
        "print(tensor)"
      ],
      "metadata": {
        "colab": {
          "base_uri": "https://localhost:8080/"
        },
        "id": "StYL95TZmFWz",
        "outputId": "abee659c-757f-48b6-e285-3e944cc149d7"
      },
      "execution_count": 8,
      "outputs": [
        {
          "output_type": "stream",
          "name": "stdout",
          "text": [
            "First row: tensor([1., 1., 1., 1.])\n",
            "First column: tensor([1., 1., 1., 1.])\n",
            "Last column: tensor([1., 1., 1., 1.])\n",
            "tensor([[1., 0., 1., 1.],\n",
            "        [1., 0., 1., 1.],\n",
            "        [1., 0., 1., 1.],\n",
            "        [1., 0., 1., 1.]])\n"
          ]
        }
      ]
    },
    {
      "cell_type": "markdown",
      "source": [
        "  2. 텐서 합치기\n",
        "    - torch.cat 을 사용하여 주어진 차원에 따라 일련의 텐서를 연결 할 수 있다. -> torch.cat과 미묘하게 다른 텐서 결합 연산인 torch.stack도 있다."
      ],
      "metadata": {
        "id": "9OZRyHzomcTI"
      }
    },
    {
      "cell_type": "code",
      "source": [
        "t1 = torch.cat([tensor, tensor, tensor], dim=1)\n",
        "print(t1)"
      ],
      "metadata": {
        "colab": {
          "base_uri": "https://localhost:8080/"
        },
        "id": "ALczhCD2mmun",
        "outputId": "36a4ad98-3233-42e8-9f58-6822ebc20e7b"
      },
      "execution_count": 9,
      "outputs": [
        {
          "output_type": "stream",
          "name": "stdout",
          "text": [
            "tensor([[1., 0., 1., 1., 1., 0., 1., 1., 1., 0., 1., 1.],\n",
            "        [1., 0., 1., 1., 1., 0., 1., 1., 1., 0., 1., 1.],\n",
            "        [1., 0., 1., 1., 1., 0., 1., 1., 1., 0., 1., 1.],\n",
            "        [1., 0., 1., 1., 1., 0., 1., 1., 1., 0., 1., 1.]])\n"
          ]
        }
      ]
    },
    {
      "cell_type": "markdown",
      "source": [
        "  3. 산술 연산"
      ],
      "metadata": {
        "id": "Vt-xBeSvms53"
      }
    },
    {
      "cell_type": "code",
      "source": [
        "# 두 텐서 간의 행렬 곱(matrix multiplication)을 계산한다. y1, y2, y3는 모두 같은 값을 갖는다.\n",
        "y1 = tensor @ tensor.T\n",
        "y2 = tensor.matmul(tensor.T)\n",
        "y3 = torch.rand_like(y1)\n",
        "print(f\"{y1} \\n {y2} \\n {y3}\")\n",
        "print(torch.matmul(tensor, tensor.T, out=y3))\n",
        "\n",
        "\n",
        "# 요소 곱(element-wise product)을 계산한다. z1, z2, z3는 모두 같은 값을 갖는다.\n",
        "z1 = tensor * tensor\n",
        "z2 = tensor.mul(tensor)\n",
        "z3 = torch.rand_like(tensor)\n",
        "print(f\"{z1} \\n {z2} \\n {z3}\")\n",
        "print(torch.mul(tensor, tensor, out=z3))"
      ],
      "metadata": {
        "colab": {
          "base_uri": "https://localhost:8080/"
        },
        "id": "iu0IQHDzmvNT",
        "outputId": "dbd0d28d-c481-4110-b5c1-84ff2c0d46f3"
      },
      "execution_count": 13,
      "outputs": [
        {
          "output_type": "stream",
          "name": "stdout",
          "text": [
            "tensor([[3., 3., 3., 3.],\n",
            "        [3., 3., 3., 3.],\n",
            "        [3., 3., 3., 3.],\n",
            "        [3., 3., 3., 3.]]) \n",
            " tensor([[3., 3., 3., 3.],\n",
            "        [3., 3., 3., 3.],\n",
            "        [3., 3., 3., 3.],\n",
            "        [3., 3., 3., 3.]]) \n",
            " tensor([[0.0429, 0.7747, 0.9185, 0.8935],\n",
            "        [0.6892, 0.5887, 0.5079, 0.3342],\n",
            "        [0.3961, 0.1755, 0.0045, 0.7419],\n",
            "        [0.7416, 0.1248, 0.6503, 0.2916]])\n",
            "tensor([[3., 3., 3., 3.],\n",
            "        [3., 3., 3., 3.],\n",
            "        [3., 3., 3., 3.],\n",
            "        [3., 3., 3., 3.]])\n",
            "tensor([[1., 0., 1., 1.],\n",
            "        [1., 0., 1., 1.],\n",
            "        [1., 0., 1., 1.],\n",
            "        [1., 0., 1., 1.]]) \n",
            " tensor([[1., 0., 1., 1.],\n",
            "        [1., 0., 1., 1.],\n",
            "        [1., 0., 1., 1.],\n",
            "        [1., 0., 1., 1.]]) \n",
            " tensor([[0.1507, 0.9901, 0.9583, 0.1631],\n",
            "        [0.8323, 0.7954, 0.7755, 0.6821],\n",
            "        [0.2005, 0.7550, 0.4575, 0.6571],\n",
            "        [0.5833, 0.5131, 0.9384, 0.0341]])\n",
            "tensor([[1., 0., 1., 1.],\n",
            "        [1., 0., 1., 1.],\n",
            "        [1., 0., 1., 1.],\n",
            "        [1., 0., 1., 1.]])\n"
          ]
        }
      ]
    },
    {
      "cell_type": "markdown",
      "source": [
        "  4. 단일 요소 텐서\n",
        "    - 텐서의 모든 값을 하나로 집계(aggregate)하여 요소하 하나인 텐서의 경우 item()을 사용하여 Python 숫자 값으로 변환 할 수 있다"
      ],
      "metadata": {
        "id": "lpZZ_MDZpOy2"
      }
    },
    {
      "cell_type": "code",
      "source": [
        "agg = tensor.sum()\n",
        "agg_item = agg.item()\n",
        "print(agg_item, type(agg_item))"
      ],
      "metadata": {
        "colab": {
          "base_uri": "https://localhost:8080/"
        },
        "id": "AZNL3Y_Ppasf",
        "outputId": "4036d6ae-8855-4e19-c8cf-ffe967cb2c44"
      },
      "execution_count": 14,
      "outputs": [
        {
          "output_type": "stream",
          "name": "stdout",
          "text": [
            "12.0 <class 'float'>\n"
          ]
        }
      ]
    },
    {
      "cell_type": "markdown",
      "source": [
        "  5. 바꿔치기 연산\n",
        "    - 연산 결과를 피연산자에 저장하는 연산을 in-place 연산이라고 부르며, _ 접미사를 갖는다. \n",
        "    - ex) x.copy_(y) 나 x.t_()는 x를 변경\n",
        "\n",
        "    - in-place 연산은 메모리를 일부 절약하지만, history가 즉시 삭제되어 도함수(derivative) 계산에 문제가 발생 할 수 있다. -> 사용을 권장하지 않음"
      ],
      "metadata": {
        "id": "yyCebeN8pwvd"
      }
    },
    {
      "cell_type": "code",
      "source": [
        "print(f\"{tensor} \\n\")\n",
        "tensor.add_(5)\n",
        "print(tensor)"
      ],
      "metadata": {
        "colab": {
          "base_uri": "https://localhost:8080/"
        },
        "id": "H_jNtHiwqDTV",
        "outputId": "1fca760a-4f86-4b57-a937-9edf3430462c"
      },
      "execution_count": 15,
      "outputs": [
        {
          "output_type": "stream",
          "name": "stdout",
          "text": [
            "tensor([[1., 0., 1., 1.],\n",
            "        [1., 0., 1., 1.],\n",
            "        [1., 0., 1., 1.],\n",
            "        [1., 0., 1., 1.]]) \n",
            "\n",
            "tensor([[6., 5., 6., 6.],\n",
            "        [6., 5., 6., 6.],\n",
            "        [6., 5., 6., 6.],\n",
            "        [6., 5., 6., 6.]])\n"
          ]
        }
      ]
    },
    {
      "cell_type": "markdown",
      "source": [
        "NumPy 변환\n",
        "  - CPU상의 텐서와 NumPy 배열은 메모리 공간을 공유하기 때문에, 하나를 변경하면 다른 하나도 변경된다."
      ],
      "metadata": {
        "id": "ohVp8nfbqZ2E"
      }
    },
    {
      "cell_type": "markdown",
      "source": [
        "  1. 텐서를 Numpy 배열로 변환하기"
      ],
      "metadata": {
        "id": "2uzVwm4QqzDu"
      }
    },
    {
      "cell_type": "code",
      "source": [
        "t = torch.ones(5)\n",
        "print(f\"t: {t}\")\n",
        "n = t.numpy()\n",
        "print(f\"n: {n}\")"
      ],
      "metadata": {
        "colab": {
          "base_uri": "https://localhost:8080/"
        },
        "id": "eROs4iGNqh38",
        "outputId": "dc95381c-1e2f-4c0e-8e0e-cb7829934ff3"
      },
      "execution_count": 16,
      "outputs": [
        {
          "output_type": "stream",
          "name": "stdout",
          "text": [
            "t: tensor([1., 1., 1., 1., 1.])\n",
            "n: [1. 1. 1. 1. 1.]\n"
          ]
        }
      ]
    },
    {
      "cell_type": "code",
      "source": [
        "t.add_(1)\n",
        "print(f\"t: {t}\")\n",
        "print(f\"n: {n}\")"
      ],
      "metadata": {
        "colab": {
          "base_uri": "https://localhost:8080/"
        },
        "id": "x2nTW22dqqfh",
        "outputId": "047a6503-9d94-4d3e-ce5e-108b40bd7e11"
      },
      "execution_count": 17,
      "outputs": [
        {
          "output_type": "stream",
          "name": "stdout",
          "text": [
            "t: tensor([2., 2., 2., 2., 2.])\n",
            "n: [2. 2. 2. 2. 2.]\n"
          ]
        }
      ]
    },
    {
      "cell_type": "markdown",
      "source": [
        "  2. NumPy 배열을 텐서로 변환하기"
      ],
      "metadata": {
        "id": "GSGok7Teq2DT"
      }
    },
    {
      "cell_type": "code",
      "source": [
        "n = np.ones(5)\n",
        "t = torch.from_numpy(n)\n",
        "\n",
        "np.add(n, 1, out=n)\n",
        "print(f\"t: {t}\")\n",
        "print(f\"n: {n}\")"
      ],
      "metadata": {
        "colab": {
          "base_uri": "https://localhost:8080/"
        },
        "id": "4ndK78Xrq4sr",
        "outputId": "6aeffe28-ff3e-4a4c-f7a5-c3daea156f98"
      },
      "execution_count": 18,
      "outputs": [
        {
          "output_type": "stream",
          "name": "stdout",
          "text": [
            "t: tensor([2., 2., 2., 2., 2.], dtype=torch.float64)\n",
            "n: [2. 2. 2. 2. 2.]\n"
          ]
        }
      ]
    }
  ]
}